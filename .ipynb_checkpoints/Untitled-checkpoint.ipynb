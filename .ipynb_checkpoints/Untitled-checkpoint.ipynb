{
 "cells": [
  {
   "cell_type": "code",
   "execution_count": null,
   "id": "d4e99889-87fb-4833-8532-66dc31254bad",
   "metadata": {},
   "outputs": [],
   "source": [
    "import pandas as pd\n",
    "import numpy as np\n",
    "import seaborn as sns\n",
    "import matplotlib.pyplot as plt\n",
    "# Load the dataset\n",
    "df = pd.read_csv('suicide_data.csv')\n",
    "# Display the first 3 rows\n",
    "df.head(3)"
   ]
  },
  {
   "cell_type": "code",
   "execution_count": null,
   "id": "bf1dcd50-9a20-48ed-ab71-4782a1eb5e34",
   "metadata": {},
   "outputs": [],
   "source": [
    "#shape of the data\n",
    "df.shape"
   ]
  },
  {
   "cell_type": "code",
   "execution_count": null,
   "id": "31976ed0-4c51-431b-85db-dd901bb66dee",
   "metadata": {},
   "outputs": [],
   "source": [
    "#data info\n",
    "df.info"
   ]
  },
  {
   "cell_type": "markdown",
   "id": "bcd8426f-e7d9-4643-a1cd-5c0fdb86e7e4",
   "metadata": {},
   "source": [
    "## Data Cleaning"
   ]
  },
  {
   "cell_type": "markdown",
   "id": "9cb046c8-6238-4b30-8d30-ee2238f6bdc8",
   "metadata": {},
   "source": [
    "### Handling missing values. \n"
   ]
  },
  {
   "cell_type": "code",
   "execution_count": null,
   "id": "75da0117-04d6-4805-a778-2327ff75e032",
   "metadata": {},
   "outputs": [],
   "source": [
    "df.isnull().sum()"
   ]
  },
  {
   "cell_type": "code",
   "execution_count": null,
   "id": "ace09818-63eb-4b3a-a84d-590694f512c8",
   "metadata": {},
   "outputs": [],
   "source": [
    "#removing HDI column as most of it is null\n",
    "df.drop(columns=['HDI for year'], inplace=True)\n",
    "# droping rows of suicide no with missing values\n",
    "df.dropna(subset=['suicides_no', 'population'], inplace=True)"
   ]
  },
  {
   "cell_type": "code",
   "execution_count": null,
   "id": "9f54f7e1-00b8-42d4-9fdb-1b030c12c626",
   "metadata": {},
   "outputs": [],
   "source": [
    "df.isnull().sum()"
   ]
  },
  {
   "cell_type": "markdown",
   "id": "4fb367cd-f761-4589-895d-4e8b9f6bc4c7",
   "metadata": {},
   "source": [
    "### Identifying and dealing with outliers."
   ]
  },
  {
   "cell_type": "code",
   "execution_count": null,
   "id": "82865460-f3de-4c60-916f-5c321fae6e7b",
   "metadata": {},
   "outputs": [],
   "source": [
    "# Select numerical columns \n",
    "numerical_cols = df.select_dtypes(include=['int64', 'float64']).columns\n",
    "\n",
    "# Set up subplots\n",
    "n_cols = 3  # Number of columns per row in the subplot grid\n",
    "n_rows = (len(numerical_cols) + n_cols - 1) // n_cols  # Calculate required rows\n",
    "\n",
    "# Create figure and subplots\n",
    "plt.figure(figsize=(15, 5 * n_rows))\n",
    "for i, column in enumerate(numerical_cols, 1):\n",
    "    plt.subplot(n_rows, n_cols, i)\n",
    "    sns.boxplot(data=df, y=column, color='skyblue')\n",
    "    plt.title(f'Box plot of {column}')\n",
    "    plt.ylabel('')  # Remove y-axis label for clarity\n",
    "\n",
    "# Adjust layout and display\n",
    "plt.tight_layout()\n",
    "plt.show()"
   ]
  },
  {
   "cell_type": "code",
   "execution_count": null,
   "id": "ef4fd3a4-e292-4c0e-be4e-28e2d2dc3f3c",
   "metadata": {},
   "outputs": [],
   "source": [
    "Q1 = df['suicides/100k pop'].quantile(0.25)\n",
    "Q3 = df['suicides/100k pop'].quantile(0.75)\n",
    "IQR = Q3 - Q1\n",
    "lower_rate = Q1 - 1.5 * IQR\n",
    "upper_rate = Q3 + 1.5 * IQR\n",
    "\n",
    "Q1 = df['suicides_no'].quantile(0.25)\n",
    "Q3 = df['suicides_no'].quantile(0.75)\n",
    "IQR = Q3 - Q1\n",
    "lower = Q1 - 1.5 * IQR\n",
    "upper = Q3 + 1.5 * IQR\n",
    "\n",
    "# Filter outliers\n",
    "df_clean = df[(df['suicides/100k pop'].between(lower_rate, upper_rate)) & (df['suicides_no'].between(lower, upper))]"
   ]
  },
  {
   "cell_type": "markdown",
   "id": "94012369-8bc0-487a-87fe-777f3035d6bd",
   "metadata": {},
   "source": [
    "### Data transformation and normalization.\n"
   ]
  },
  {
   "cell_type": "code",
   "execution_count": null,
   "id": "8ec35c46-8513-47ef-9d5d-13e5aed47f3d",
   "metadata": {},
   "outputs": [],
   "source": [
    "# Simplify age groups \n",
    "df_clean.loc[:, 'age'] = df['age'].str.replace(' years', '')\n",
    "df_clean.loc[:,'gdp_for_year'] = df['gdp_for_year'].str.replace(',', '')\n",
    "\n"
   ]
  },
  {
   "cell_type": "code",
   "execution_count": null,
   "id": "188d7843-d4a2-4fc0-896b-0859dbcc5753",
   "metadata": {},
   "outputs": [],
   "source": [
    "from sklearn.preprocessing import MinMaxScaler\n",
    "\n",
    "#nomalization\n",
    "\n",
    "num_cols = df_clean.select_dtypes(include=np.number).columns\n",
    "scaler = MinMaxScaler()\n",
    "df_clean.loc[:,num_cols] = scaler.fit_transform(df_clean[num_cols])\n",
    "\n",
    "#normalized data\n",
    "df_clean.head(3)"
   ]
  },
  {
   "cell_type": "markdown",
   "id": "83ab4024-34d2-48fc-a983-442f59a87192",
   "metadata": {},
   "source": [
    "## Exploratory Data Analysis (EDA) \n"
   ]
  },
  {
   "cell_type": "markdown",
   "id": "c9b8ee07-f4a6-4bb5-b42c-2f6525dda0b4",
   "metadata": {},
   "source": [
    "### Summary statistics. "
   ]
  },
  {
   "cell_type": "code",
   "execution_count": null,
   "id": "80aed4e3-45c8-4dd0-a9d7-05689219c4c2",
   "metadata": {},
   "outputs": [],
   "source": [
    "df.describe()"
   ]
  },
  {
   "cell_type": "code",
   "execution_count": null,
   "id": "7acb92c8-18e6-4586-8b78-cb6957180ea4",
   "metadata": {},
   "outputs": [],
   "source": [
    "# Cross-tabulation (e.g., suicides by age and sex)\n",
    "(pd.crosstab(df['age'], df['sex'], values=df['suicides/100k pop'], aggfunc='mean'))"
   ]
  },
  {
   "cell_type": "markdown",
   "id": "9ae0144b-77f1-4974-a717-906c359b9749",
   "metadata": {},
   "source": [
    "### Data visualization"
   ]
  },
  {
   "cell_type": "code",
   "execution_count": null,
   "id": "50cec11b-e137-4318-8298-c097d1e58302",
   "metadata": {},
   "outputs": [],
   "source": [
    "df_clean.hist(figsize=(10,12), bins = 20)"
   ]
  },
  {
   "cell_type": "code",
   "execution_count": null,
   "id": "383aca65-794c-4cfb-a184-f80b00ce1249",
   "metadata": {},
   "outputs": [],
   "source": [
    "import matplotlib.pyplot as plt\n",
    "import seaborn as sns\n",
    "\n",
    "# Calculate average suicide rate per country\n",
    "country_rates = df_clean.groupby('country')['suicides/100k pop'].mean().reset_index()\n",
    "country_rates = country_rates.sort_values('suicides/100k pop', ascending=False)\n",
    "\n",
    "# Create a simple bar plot\n",
    "plt.figure(figsize=(10, 30))  # Increase height to accommodate all countries\n",
    "sns.barplot(y='country',x='suicides/100k pop',data=country_rates,color='skyblue',edgecolor='black')\n",
    "\n",
    "# Add titles/labels\n",
    "plt.title('Average Suicide Rate by Country (per 100k Population)', fontsize=14)\n",
    "plt.xlabel('Suicides per 100k Population', fontsize=12)\n",
    "plt.ylabel('Country', fontsize=12)\n",
    "plt.xticks(fontsize=10)\n",
    "plt.yticks(fontsize=8)  # Smaller font for country names\n",
    "\n",
    "plt.tight_layout()\n",
    "plt.show()"
   ]
  },
  {
   "cell_type": "code",
   "execution_count": null,
   "id": "60558404-132c-44d3-bcf3-0232a3218371",
   "metadata": {},
   "outputs": [],
   "source": [
    "plt.figure(figsize=(10, 6))\n",
    "sns.barplot(x='generation', y='suicides/100k pop', data=df_clean)\n",
    "plt.title('Suicide Rates by Generation')\n",
    "plt.xticks(rotation=45)\n",
    "plt.show()\n",
    "\n",
    "# Box plot by sex\n",
    "plt.figure(figsize=(10, 6))\n",
    "sns.barplot(x='sex', y='suicides_no', data=df_clean)\n",
    "plt.title('Suicide Rates by sex')\n",
    "plt.xticks(rotation=45)\n",
    "plt.show()"
   ]
  },
  {
   "cell_type": "code",
   "execution_count": null,
   "id": "37815005-8480-450e-bff6-cd5630bea39e",
   "metadata": {},
   "outputs": [],
   "source": [
    "#scatter plot comparison of gdp and  suicide rtate\n",
    "\n",
    "sns.scatterplot(x='suicides/100k pop', y='gdp_per_capita ($)', data=df_clean, hue='sex',size=0.7)"
   ]
  },
  {
   "cell_type": "markdown",
   "id": "e024238c-175d-43cf-b280-d6350b84c089",
   "metadata": {},
   "source": [
    "### Identifying patterns and insights. "
   ]
  },
  {
   "cell_type": "code",
   "execution_count": null,
   "id": "33eb8e76-c9ad-4681-b598-357be6ec0c31",
   "metadata": {},
   "outputs": [],
   "source": [
    "sns.heatmap(df_clean[['suicides/100k pop', 'gdp_per_capita ($)', 'population','suicides_no','year']].corr(), annot=True)"
   ]
  },
  {
   "cell_type": "code",
   "execution_count": null,
   "id": "5f824f9f-aead-4671-be77-bbcc0f9736dd",
   "metadata": {},
   "outputs": [],
   "source": [
    "sns.lineplot(data=df, x='year', y='suicides/100k pop', hue='generation',errorbar=None)"
   ]
  },
  {
   "cell_type": "code",
   "execution_count": null,
   "id": "dbad7e4f-6aca-48b9-b727-4179de60933f",
   "metadata": {},
   "outputs": [],
   "source": [
    "numerical_cols = ['suicides/100k pop', 'suicides_no', 'population', 'gdp_per_capita ($)', 'gdp_for_year']\n",
    "df_numerical = df_clean[numerical_cols]"
   ]
  },
  {
   "cell_type": "code",
   "execution_count": null,
   "id": "8ee3a44f-66e4-4da4-82e0-d82e72e96c1b",
   "metadata": {},
   "outputs": [],
   "source": [
    "correlation_matrix = df_numerical.corr(method='pearson')  # or 'spearman' for non-linear relationships\n",
    "print(correlation_matrix)"
   ]
  },
  {
   "cell_type": "code",
   "execution_count": null,
   "id": "e42eb78c-76c9-485a-bca5-ca0409dc69f7",
   "metadata": {},
   "outputs": [],
   "source": [
    "plt.figure(figsize=(10, 8))\n",
    "sns.heatmap(correlation_matrix,annot=True)\n",
    "plt.title('Correlation Matrix of Numerical Variables', fontsize=14)\n",
    "plt.show()"
   ]
  },
  {
   "cell_type": "markdown",
   "id": "e556e55c-bce9-4bfb-b17a-03cbc1fdca4a",
   "metadata": {},
   "source": [
    "## covariance"
   ]
  },
  {
   "cell_type": "code",
   "execution_count": null,
   "id": "991824b9-4fed-41a2-8f30-49409f7db03a",
   "metadata": {},
   "outputs": [],
   "source": [
    "#covariance\n",
    "# Calculate covariance matrix\n",
    "cov_matrix = df_numerical.cov()"
   ]
  },
  {
   "cell_type": "code",
   "execution_count": null,
   "id": "d49836e4-1577-40ca-85c5-3626d399023d",
   "metadata": {},
   "outputs": [],
   "source": [
    "from sklearn.preprocessing import StandardScaler\n",
    "\n",
    "scaler = StandardScaler()\n",
    "df_standardized = pd.DataFrame(scaler.fit_transform(df_numerical), columns=df_numerical.columns)\n",
    "cov_matrix_std = df_standardized.cov()\n",
    "sns.heatmap(cov_matrix_std, annot=True, cmap='coolwarm', fmt=\".2f\")"
   ]
  },
  {
   "cell_type": "code",
   "execution_count": null,
   "id": "3a3c2336-b425-4f9b-bbdd-2175b34a2758",
   "metadata": {},
   "outputs": [],
   "source": [
    "mean_values = df_clean.mean()\n",
    "median_values = df_clean.median()\n",
    "mode_values = df_clean.mode().iloc[0]  # Take the first mode (mode can have multiple values)\n",
    "\n",
    "# Combine the statistics into a single DataFrame for plotting\n",
    "central_tendency = pd.DataFrame({\n",
    "    'Mean': mean_values,\n",
    "    'Median': median_values,\n",
    "    'Mode': mode_values\n",
    "})\n",
    "\n",
    "# Plotting\n",
    "plt.figure(figsize=(14, 7))\n",
    "bar_width = 0.25  # Width of individual bars\n",
    "index = range(len(central_tendency))  # Position of bars\n",
    "\n",
    "# Create separate bars for mean, median, and mode\n",
    "plt.bar([i - bar_width for i in index], central_tendency['Mean'], bar_width, label='Mean', color='blue')\n",
    "plt.bar(index, central_tendency['Median'], bar_width, label='Median', color='orange')\n",
    "plt.bar([i + bar_width for i in index], central_tendency['Mode'], bar_width, label='Mode', color='green')\n",
    "\n",
    "# Customize the chart\n",
    "plt.xticks(index, central_tendency.index, rotation=45, ha='right')\n",
    "plt.title('Central Tendency Measures (Mean, Median, Mode)')\n",
    "plt.ylabel('Values')\n",
    "plt.xlabel('Features')\n",
    "plt.legend()\n",
    "plt.tight_layout()\n",
    "plt.show()"
   ]
  },
  {
   "cell_type": "markdown",
   "id": "65ed6b62-e53a-4110-8724-e6c5f9216a78",
   "metadata": {},
   "source": [
    "### Hypothesis testing"
   ]
  },
  {
   "cell_type": "code",
   "execution_count": null,
   "id": "ef4e6c79-8f95-443e-aeb0-d4e78f1550d0",
   "metadata": {
    "scrolled": true
   },
   "outputs": [],
   "source": [
    "from scipy.stats import ttest_ind\n",
    "\n",
    "# Split data into male and female groups\n",
    "male = df_clean[df_clean['sex'] == 'male']['suicides/100k pop']\n",
    "female = df_clean[df_clean['sex'] == 'female']['suicides/100k pop']\n",
    "\n",
    "# Perform t-test\n",
    "t_stat, p_value = ttest_ind(male, female, nan_policy='omit')\n",
    "print(f\"T-statistic: {t_stat:.2f}, P-value: {p_value:.4f}\")\n",
    "\n",
    "# Interpret results\n",
    "if p_value < 0.05:\n",
    "    print(\"Reject null hypothesis: Suicide rates differ significantly by gender.\")\n",
    "else:\n",
    "    print(\"No significant difference in suicide rates by gender.\")"
   ]
  },
  {
   "cell_type": "code",
   "execution_count": null,
   "id": "9334dc30-467f-47f8-9aa0-93bc7d05852f",
   "metadata": {},
   "outputs": [],
   "source": []
  }
 ],
 "metadata": {
  "kernelspec": {
   "display_name": "Python 3 (ipykernel)",
   "language": "python",
   "name": "python3"
  },
  "language_info": {
   "codemirror_mode": {
    "name": "ipython",
    "version": 3
   },
   "file_extension": ".py",
   "mimetype": "text/x-python",
   "name": "python",
   "nbconvert_exporter": "python",
   "pygments_lexer": "ipython3",
   "version": "3.12.7"
  }
 },
 "nbformat": 4,
 "nbformat_minor": 5
}
